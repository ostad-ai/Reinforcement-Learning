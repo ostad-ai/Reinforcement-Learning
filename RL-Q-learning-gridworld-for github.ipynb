{
 "cells": [
  {
   "cell_type": "markdown",
   "id": "09a9125a",
   "metadata": {},
   "source": [
    "# Reinforcement Learning\n",
    "### Q-learning\n",
    "\n",
    "The **Q-learning** is another **temporal difference** (TD) **model-free** method used in **Reinforcement Learning** (RL).\n",
    ". We have already seen the SARSA in the previous post, which is also a TD-based method. Here, we introduce the Q-learning which updates the action-value function $q(s,a)$ by comparing the current estimate with a greedy-based estimate (called the TD target). The Q-learning uses the following iteration for updating action-value function $q(s,a)$:\n",
    "<br> $\\large q(s,a)\\leftarrow q(s,a)+\\alpha (r+\\gamma max_{a'} q(s',a')-q(s,a))$\n",
    "<br> where $s'$ is the next state. And, $r$ is the reward received after taking action $a$. Moreover, $max_{a'}q(s',a')$ is the best estimated future value. \n",
    "<br> **Hint** Similar to the SARSA, we use the ϵ-greedy for action-selection in Q-learning. We talked about ϵ-greedy earlier.\n",
    "<hr>\n",
    "\n",
    "The example in this Notebook is again the same we have used recently. As usual, the **Grid World** environment is defined as:\n",
    " - **States:** A 3x3 grid (9 states), labeled as (0,0) to (2,2).\n",
    " - **Actions:** Up, Down, Left, Right.\n",
    " - **Rewards:**\n",
    "    - Reaching the goal state (2,2) gives a reward of +10.\n",
    "    - Reaching a \"pit\" state (1,1) gives a reward of −10.\n",
    "    - All other transitions give a reward of −1.\n",
    "- **Terminal States:** (2,2) (goal) and (1,1) (pit).\n",
    "- **Transition Probabilities:**\n",
    "    - Moving in the intended direction succeeds with probability 0.8.\n",
    "    - With probability 0.2, the agent moves in a random direction\n",
    "\n",
    "<hr>\n",
    "https://github.com/ostad-ai/Reinforcement-Learning\n",
    "<br> Explanation: https://www.pinterest.com/HamedShahHosseini/Reinforcement-Learning"
   ]
  },
  {
   "cell_type": "code",
   "execution_count": 1,
   "id": "b2c090ea",
   "metadata": {},
   "outputs": [],
   "source": [
    "# Import the required module\n",
    "import random"
   ]
  },
  {
   "cell_type": "code",
   "execution_count": 2,
   "id": "6e447dff",
   "metadata": {},
   "outputs": [],
   "source": [
    "# This class simulates the GridWorld, but the RL algorithm\n",
    "# does not need to know transition probabilities\n",
    "# bevasue it is a model-free method\n",
    "class GridWorld:\n",
    "    def __init__(self):\n",
    "        self.states = [(i, j) for i in range(3) for j in range(3)]\n",
    "        self.actions = ['up', 'down', 'left', 'right']\n",
    "        self.terminal = {(2, 2): 10, (1, 1): -10}  # Terminal states and rewards\n",
    "        \n",
    "    def reset(self):\n",
    "        self.current_state = (0, 0)  # Start state\n",
    "        return self.current_state\n",
    "    \n",
    "    def step(self, action):\n",
    "        i, j = self.current_state\n",
    "        \n",
    "        if self.current_state in self.terminal:\n",
    "            return self.current_state, 0, True  # Already terminal\n",
    "        \n",
    "        # Movement with 80% success, 20% random orthogonal slip\n",
    "        if random.random() < 0.8:\n",
    "            next_state = self._move(action, i, j)\n",
    "        else:\n",
    "            # Random orthogonal slip\n",
    "            if action in ['up', 'down']:\n",
    "                next_state = self._move(random.choice(['left', 'right']), i, j)\n",
    "            else:\n",
    "                next_state = self._move(random.choice(['up', 'down']), i, j)\n",
    "        \n",
    "        self.current_state = next_state\n",
    "        reward = self.terminal.get(next_state, -1)  # -1 for non-terminal\n",
    "        done = next_state in self.terminal\n",
    "        \n",
    "        return next_state, reward, done\n",
    "    \n",
    "    def _move(self, action, i, j):\n",
    "        if action == 'up':\n",
    "            return max(i-1, 0), j\n",
    "        elif action == 'down':\n",
    "            return min(i+1, 2), j\n",
    "        elif action == 'left':\n",
    "            return i, max(j-1, 0)\n",
    "        elif action == 'right':\n",
    "            return i, min(j+1, 2)"
   ]
  },
  {
   "cell_type": "code",
   "execution_count": 3,
   "id": "3883986f",
   "metadata": {},
   "outputs": [],
   "source": [
    "# Epsilon-greedy action-selection\n",
    "def epsilon_greedy(Q, state, actions, epsilon):\n",
    "    if random.random() < epsilon:\n",
    "        return random.choice(actions)\n",
    "    else:\n",
    "        # Get all Q-values for this state\n",
    "        q_values = [Q.get((state, a), 0) for a in actions]\n",
    "        max_q = max(q_values)\n",
    "        # In case of multiple max, choose randomly among them\n",
    "        best_actions = [a for a, q in zip(actions, q_values) if q == max_q]\n",
    "        return random.choice(best_actions)"
   ]
  },
  {
   "cell_type": "code",
   "execution_count": 4,
   "id": "5c003e6e",
   "metadata": {},
   "outputs": [],
   "source": [
    "# Q-learning algorithm (off-policy TD control).\n",
    "# env: Environment,alpha: Learning rate, gamma: Discount factor,\n",
    "# epsilon: Exploration rate, episodes: Number of episodes\n",
    "def qlearning(env, alpha=0.1, gamma=0.9, epsilon=0.1, episodes=1000):\n",
    "    Q = {(s, a): 0 for s in env.states for a in env.actions}\n",
    "    \n",
    "    for _ in range(episodes):\n",
    "        s = env.reset()\n",
    "        done = False\n",
    "        \n",
    "        while not done:\n",
    "            a = epsilon_greedy(Q, s, env.actions, epsilon)\n",
    "            s_next, r, done = env.step(a)\n",
    "            max_q=max([Q.get((s_next,a_prime),0) for a_prime in env.actions])\n",
    "            td_target = r + gamma * max_q\n",
    "            Q[(s, a)] += alpha * (td_target - Q[(s, a)])\n",
    "            s= s_next\n",
    "    \n",
    "    return Q"
   ]
  },
  {
   "cell_type": "code",
   "execution_count": 5,
   "id": "63fba45e",
   "metadata": {},
   "outputs": [
    {
     "name": "stdout",
     "output_type": "stream",
     "text": [
      "--- Q-learning Optimal Policy:\n",
      "State (0,0): right | State (0,1): right | State (0,2): down | \n",
      "State (1,0): left | State (1,1): None | State (1,2): down | \n",
      "State (2,0): right | State (2,1): right | State (2,2): None | \n"
     ]
    }
   ],
   "source": [
    "# Example: Q-learning with GridWorld\n",
    "print(\"--- Q-learning Optimal Policy:\")\n",
    "env = GridWorld()\n",
    "Q = qlearning(env)\n",
    "policy = {}\n",
    "for s in env.states:\n",
    "    if s in env.terminal:\n",
    "        policy[s] = None\n",
    "    else:\n",
    "        q_values = [Q.get((s, a), 0) for a in env.actions]\n",
    "        policy[s] = env.actions[q_values.index(max(q_values))]\n",
    "\n",
    "for i in range(3):\n",
    "    for j in range(3):\n",
    "        print(f\"State ({i},{j}): {policy.get((i,j), 'TERMINAL')}\", end=\" | \")\n",
    "    print()"
   ]
  },
  {
   "cell_type": "code",
   "execution_count": null,
   "id": "262e5a31",
   "metadata": {},
   "outputs": [],
   "source": []
  }
 ],
 "metadata": {
  "kernelspec": {
   "display_name": "Python 3 (ipykernel)",
   "language": "python",
   "name": "python3"
  },
  "language_info": {
   "codemirror_mode": {
    "name": "ipython",
    "version": 3
   },
   "file_extension": ".py",
   "mimetype": "text/x-python",
   "name": "python",
   "nbconvert_exporter": "python",
   "pygments_lexer": "ipython3",
   "version": "3.11.1"
  }
 },
 "nbformat": 4,
 "nbformat_minor": 5
}
