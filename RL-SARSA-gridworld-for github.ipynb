{
 "cells": [
  {
   "cell_type": "markdown",
   "id": "09a9125a",
   "metadata": {},
   "source": [
    "# Reinforcement Learning\n",
    "### SARSA\n",
    "\n",
    "The **SARSA** is a **temporal difference** (TD) **model-free** method used in **Reinforcement Learning** (RL) to obtain the optimal policy for a **Markov Decision Process** (MDP). TD methods update the state-value function $v(s)$ (or action-value function $q(s,a)$) by comparing the current estimate with a more informed estimate (called the TD target). The SARSA is a TD-based method which uses the following iteration for updating action-value function $q(s,a)$:\n",
    "<br> $\\large q(s,a)\\leftarrow q(s,a)+\\alpha (r+\\gamma q(s',a')-q(s,a))$\n",
    "<br> where $s'$ is the next state, and $a'$ is the action chosen at state $s'$. Also, $r$ is the reward received after taking action $a$.\n",
    "<br> **Hint** Along with the algorithm SARSA, we use the ϵ-greedy for action-selection. We talked about ϵ-greedy in the previosu post.\n",
    "<hr>\n",
    "\n",
    "The example in this Notebook is the same we introduced earlier. Again, we use a **Grid World** environment:\n",
    " - **States:** A 3x3 grid (9 states), labeled as (0,0) to (2,2).\n",
    " - **Actions:** Up, Down, Left, Right.\n",
    " - **Rewards:**\n",
    "    - Reaching the goal state (2,2) gives a reward of +10.\n",
    "    - Reaching a \"pit\" state (1,1) gives a reward of −10.\n",
    "    - All other transitions give a reward of −1.\n",
    "- **Terminal States:** (2,2) (goal) and (1,1) (pit).\n",
    "- **Transition Probabilities:**\n",
    "    - Moving in the intended direction succeeds with probability 0.8.\n",
    "    - With probability 0.2, the agent moves in a random direction\n",
    "\n",
    "<hr>\n",
    "https://github.com/ostad-ai/Reinforcement-Learning\n",
    "<br> Explanation: https://www.pinterest.com/HamedShahHosseini/Reinforcement-Learning"
   ]
  },
  {
   "cell_type": "code",
   "execution_count": 1,
   "id": "b2c090ea",
   "metadata": {},
   "outputs": [],
   "source": [
    "# Import the required module\n",
    "import random"
   ]
  },
  {
   "cell_type": "code",
   "execution_count": 2,
   "id": "6e447dff",
   "metadata": {},
   "outputs": [],
   "source": [
    "# This class simulates the GridWorld, but the RL algorithm\n",
    "# does not need to know transition probabilities\n",
    "# bevasue it is a model-free method\n",
    "class GridWorld:\n",
    "    def __init__(self):\n",
    "        self.states = [(i, j) for i in range(3) for j in range(3)]\n",
    "        self.actions = ['up', 'down', 'left', 'right']\n",
    "        self.terminal = {(2, 2): 10, (1, 1): -10}  # Terminal states and rewards\n",
    "        \n",
    "    def reset(self):\n",
    "        self.current_state = (0, 0)  # Start state\n",
    "        return self.current_state\n",
    "    \n",
    "    def step(self, action):\n",
    "        i, j = self.current_state\n",
    "        \n",
    "        if self.current_state in self.terminal:\n",
    "            return self.current_state, 0, True  # Already terminal\n",
    "        \n",
    "        # Movement with 80% success, 20% random orthogonal slip\n",
    "        if random.random() < 0.8:\n",
    "            next_state = self._move(action, i, j)\n",
    "        else:\n",
    "            # Random orthogonal slip\n",
    "            if action in ['up', 'down']:\n",
    "                next_state = self._move(random.choice(['left', 'right']), i, j)\n",
    "            else:\n",
    "                next_state = self._move(random.choice(['up', 'down']), i, j)\n",
    "        \n",
    "        self.current_state = next_state\n",
    "        reward = self.terminal.get(next_state, -1)  # -1 for non-terminal\n",
    "        done = next_state in self.terminal\n",
    "        \n",
    "        return next_state, reward, done\n",
    "    \n",
    "    def _move(self, action, i, j):\n",
    "        if action == 'up':\n",
    "            return max(i-1, 0), j\n",
    "        elif action == 'down':\n",
    "            return min(i+1, 2), j\n",
    "        elif action == 'left':\n",
    "            return i, max(j-1, 0)\n",
    "        elif action == 'right':\n",
    "            return i, min(j+1, 2)"
   ]
  },
  {
   "cell_type": "code",
   "execution_count": 3,
   "id": "3883986f",
   "metadata": {},
   "outputs": [],
   "source": [
    "# Epsilon-greedy action-selection\n",
    "def epsilon_greedy(Q, state, actions, epsilon):\n",
    "    if random.random() < epsilon:\n",
    "        return random.choice(actions)\n",
    "    else:\n",
    "        # Get all Q-values for this state\n",
    "        q_values = [Q.get((state, a), 0) for a in actions]\n",
    "        max_q = max(q_values)\n",
    "        # In case of multiple max, choose randomly among them\n",
    "        best_actions = [a for a, q in zip(actions, q_values) if q == max_q]\n",
    "        return random.choice(best_actions)"
   ]
  },
  {
   "cell_type": "code",
   "execution_count": 4,
   "id": "5c003e6e",
   "metadata": {},
   "outputs": [],
   "source": [
    "# SARSA algorithm (on-policy TD control).\n",
    "# env: Environment,alpha: Learning rate, gamma: Discount factor,\n",
    "# epsilon: Exploration rate, episodes: Number of episodes\n",
    "def sarsa(env, alpha=0.1, gamma=0.9, epsilon=0.1, episodes=1000):\n",
    "    Q = {(s, a): 0 for s in env.states for a in env.actions}\n",
    "    \n",
    "    for _ in range(episodes):\n",
    "        s = env.reset()\n",
    "        a = epsilon_greedy(Q, s, env.actions, epsilon)\n",
    "        done = False\n",
    "        \n",
    "        while not done:\n",
    "            s_next, r, done = env.step(a)\n",
    "            a_next = epsilon_greedy(Q, s_next, env.actions, epsilon)\n",
    "            td_target = r + gamma * Q.get((s_next, a_next), 0)\n",
    "            Q[(s, a)] += alpha * (td_target - Q[(s, a)])\n",
    "            s, a = s_next, a_next\n",
    "    \n",
    "    return Q"
   ]
  },
  {
   "cell_type": "code",
   "execution_count": 5,
   "id": "63fba45e",
   "metadata": {},
   "outputs": [
    {
     "name": "stdout",
     "output_type": "stream",
     "text": [
      "--- SARSA Optimal Policy:\n",
      "State (0,0): right | State (0,1): right | State (0,2): down | \n",
      "State (1,0): down | State (1,1): None | State (1,2): down | \n",
      "State (2,0): right | State (2,1): right | State (2,2): None | \n"
     ]
    }
   ],
   "source": [
    "# Example: SARSA with GridWorld\n",
    "print(\"--- SARSA Optimal Policy:\")\n",
    "env = GridWorld()\n",
    "Q = sarsa(env)\n",
    "policy = {}\n",
    "for s in env.states:\n",
    "    if s in env.terminal:\n",
    "        policy[s] = None\n",
    "    else:\n",
    "        q_values = [Q.get((s, a), 0) for a in env.actions]\n",
    "        policy[s] = env.actions[q_values.index(max(q_values))]\n",
    "\n",
    "for i in range(3):\n",
    "    for j in range(3):\n",
    "        print(f\"State ({i},{j}): {policy.get((i,j), 'TERMINAL')}\", end=\" | \")\n",
    "    print()"
   ]
  },
  {
   "cell_type": "code",
   "execution_count": null,
   "id": "262e5a31",
   "metadata": {},
   "outputs": [],
   "source": []
  }
 ],
 "metadata": {
  "kernelspec": {
   "display_name": "Python 3 (ipykernel)",
   "language": "python",
   "name": "python3"
  },
  "language_info": {
   "codemirror_mode": {
    "name": "ipython",
    "version": 3
   },
   "file_extension": ".py",
   "mimetype": "text/x-python",
   "name": "python",
   "nbconvert_exporter": "python",
   "pygments_lexer": "ipython3",
   "version": "3.11.1"
  }
 },
 "nbformat": 4,
 "nbformat_minor": 5
}
